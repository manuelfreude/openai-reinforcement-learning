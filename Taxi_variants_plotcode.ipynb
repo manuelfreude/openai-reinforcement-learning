{
 "cells": [
  {
   "cell_type": "code",
   "execution_count": 49,
   "metadata": {},
   "outputs": [],
   "source": [
    "import pandas as pd\n",
    "import matplotlib.pyplot as plt\n",
    "\n",
    "%matplotlib inline"
   ]
  },
  {
   "cell_type": "code",
   "execution_count": 50,
   "metadata": {},
   "outputs": [],
   "source": [
    "results_td = pd.read_csv('taxi_td.csv')\n",
    "results_td_500plus = results_td[500:5000]\n",
    "results_sarsa = pd.read_csv('taxi_sarsa.csv')\n",
    "results_sarsa_500plus = results_sarsa[500:5000]\n",
    "results_sarsamax = pd.read_csv('taxi_sarsamax.csv')\n",
    "results_sarsamax_500plus = results_sarsamax[500:5000]"
   ]
  },
  {
   "cell_type": "code",
   "execution_count": 51,
   "metadata": {},
   "outputs": [
    {
     "name": "stdout",
     "output_type": "stream",
     "text": [
      "<class 'pandas.core.frame.DataFrame'>\n",
      "RangeIndex: 4500 entries, 500 to 4999\n",
      "Data columns (total 4 columns):\n",
      "Episode                     4500 non-null int64\n",
      "Best Avg Reward TD          4500 non-null float64\n",
      "Best Avg Reward Sarsa       4500 non-null float64\n",
      "Best Avg Reward Sarsamax    4500 non-null float64\n",
      "dtypes: float64(3), int64(1)\n",
      "memory usage: 140.7 KB\n"
     ]
    }
   ],
   "source": [
    "results = pd.concat([results_td_500plus, results_sarsa_500plus['Best Avg Reward Sarsa'], results_sarsamax_500plus['Best Avg Reward Sarsamax']], axis=1, ignore_index=True)\n",
    "results.columns = ['Episode', 'Best Avg Reward TD', 'Best Avg Reward Sarsa', 'Best Avg Reward Sarsamax']\n",
    "results['Episode'] = results.reset_index().index\n",
    "results['Episode'] = results['Episode'] + 500\n",
    "results.info()"
   ]
  },
  {
   "cell_type": "code",
   "execution_count": 52,
   "metadata": {},
   "outputs": [
    {
     "data": {
      "text/html": [
       "<div>\n",
       "<style scoped>\n",
       "    .dataframe tbody tr th:only-of-type {\n",
       "        vertical-align: middle;\n",
       "    }\n",
       "\n",
       "    .dataframe tbody tr th {\n",
       "        vertical-align: top;\n",
       "    }\n",
       "\n",
       "    .dataframe thead th {\n",
       "        text-align: right;\n",
       "    }\n",
       "</style>\n",
       "<table border=\"1\" class=\"dataframe\">\n",
       "  <thead>\n",
       "    <tr style=\"text-align: right;\">\n",
       "      <th></th>\n",
       "      <th>Episode</th>\n",
       "      <th>Best Avg Reward TD</th>\n",
       "      <th>Best Avg Reward Sarsa</th>\n",
       "      <th>Best Avg Reward Sarsamax</th>\n",
       "    </tr>\n",
       "  </thead>\n",
       "  <tbody>\n",
       "    <tr>\n",
       "      <th>500</th>\n",
       "      <td>500</td>\n",
       "      <td>7.77</td>\n",
       "      <td>4.87</td>\n",
       "      <td>2.07</td>\n",
       "    </tr>\n",
       "    <tr>\n",
       "      <th>501</th>\n",
       "      <td>501</td>\n",
       "      <td>7.77</td>\n",
       "      <td>4.87</td>\n",
       "      <td>2.07</td>\n",
       "    </tr>\n",
       "    <tr>\n",
       "      <th>502</th>\n",
       "      <td>502</td>\n",
       "      <td>7.77</td>\n",
       "      <td>4.87</td>\n",
       "      <td>2.12</td>\n",
       "    </tr>\n",
       "    <tr>\n",
       "      <th>503</th>\n",
       "      <td>503</td>\n",
       "      <td>7.77</td>\n",
       "      <td>4.87</td>\n",
       "      <td>2.46</td>\n",
       "    </tr>\n",
       "    <tr>\n",
       "      <th>504</th>\n",
       "      <td>504</td>\n",
       "      <td>7.77</td>\n",
       "      <td>4.87</td>\n",
       "      <td>2.52</td>\n",
       "    </tr>\n",
       "  </tbody>\n",
       "</table>\n",
       "</div>"
      ],
      "text/plain": [
       "     Episode  Best Avg Reward TD  Best Avg Reward Sarsa  \\\n",
       "500      500                7.77                   4.87   \n",
       "501      501                7.77                   4.87   \n",
       "502      502                7.77                   4.87   \n",
       "503      503                7.77                   4.87   \n",
       "504      504                7.77                   4.87   \n",
       "\n",
       "     Best Avg Reward Sarsamax  \n",
       "500                      2.07  \n",
       "501                      2.07  \n",
       "502                      2.12  \n",
       "503                      2.46  \n",
       "504                      2.52  "
      ]
     },
     "execution_count": 52,
     "metadata": {},
     "output_type": "execute_result"
    }
   ],
   "source": [
    "results.head()"
   ]
  },
  {
   "cell_type": "code",
   "execution_count": 53,
   "metadata": {},
   "outputs": [
    {
     "data": {
      "text/html": [
       "<div>\n",
       "<style scoped>\n",
       "    .dataframe tbody tr th:only-of-type {\n",
       "        vertical-align: middle;\n",
       "    }\n",
       "\n",
       "    .dataframe tbody tr th {\n",
       "        vertical-align: top;\n",
       "    }\n",
       "\n",
       "    .dataframe thead th {\n",
       "        text-align: right;\n",
       "    }\n",
       "</style>\n",
       "<table border=\"1\" class=\"dataframe\">\n",
       "  <thead>\n",
       "    <tr style=\"text-align: right;\">\n",
       "      <th></th>\n",
       "      <th>Episode</th>\n",
       "      <th>Best Avg Reward TD</th>\n",
       "      <th>Best Avg Reward Sarsa</th>\n",
       "      <th>Best Avg Reward Sarsamax</th>\n",
       "    </tr>\n",
       "  </thead>\n",
       "  <tbody>\n",
       "    <tr>\n",
       "      <th>4995</th>\n",
       "      <td>4995</td>\n",
       "      <td>9.12</td>\n",
       "      <td>9.1</td>\n",
       "      <td>9.23</td>\n",
       "    </tr>\n",
       "    <tr>\n",
       "      <th>4996</th>\n",
       "      <td>4996</td>\n",
       "      <td>9.12</td>\n",
       "      <td>9.1</td>\n",
       "      <td>9.23</td>\n",
       "    </tr>\n",
       "    <tr>\n",
       "      <th>4997</th>\n",
       "      <td>4997</td>\n",
       "      <td>9.12</td>\n",
       "      <td>9.1</td>\n",
       "      <td>9.23</td>\n",
       "    </tr>\n",
       "    <tr>\n",
       "      <th>4998</th>\n",
       "      <td>4998</td>\n",
       "      <td>9.12</td>\n",
       "      <td>9.1</td>\n",
       "      <td>9.23</td>\n",
       "    </tr>\n",
       "    <tr>\n",
       "      <th>4999</th>\n",
       "      <td>4999</td>\n",
       "      <td>9.12</td>\n",
       "      <td>9.1</td>\n",
       "      <td>9.23</td>\n",
       "    </tr>\n",
       "  </tbody>\n",
       "</table>\n",
       "</div>"
      ],
      "text/plain": [
       "      Episode  Best Avg Reward TD  Best Avg Reward Sarsa  \\\n",
       "4995     4995                9.12                    9.1   \n",
       "4996     4996                9.12                    9.1   \n",
       "4997     4997                9.12                    9.1   \n",
       "4998     4998                9.12                    9.1   \n",
       "4999     4999                9.12                    9.1   \n",
       "\n",
       "      Best Avg Reward Sarsamax  \n",
       "4995                      9.23  \n",
       "4996                      9.23  \n",
       "4997                      9.23  \n",
       "4998                      9.23  \n",
       "4999                      9.23  "
      ]
     },
     "execution_count": 53,
     "metadata": {},
     "output_type": "execute_result"
    }
   ],
   "source": [
    "results.tail()"
   ]
  },
  {
   "cell_type": "code",
   "execution_count": 54,
   "metadata": {},
   "outputs": [
    {
     "data": {
      "image/png": "[encoded data removed]",
      "text/plain": [
       "<Figure size 432x288 with 1 Axes>"
      ]
     },
     "metadata": {},
     "output_type": "display_data"
    }
   ],
   "source": [
    "plt.plot(results['Episode'], results['Best Avg Reward TD'])\n",
    "plt.plot(results['Episode'], results['Best Avg Reward Sarsa'])\n",
    "plt.plot(results['Episode'], results['Best Avg Reward Sarsamax'])\n",
    "plt.ylabel('Rewards per Episode')\n",
    "plt.xlabel('Episode (500-5000)')\n",
    "plt.legend(['Best Avg Reward TD', 'Best Avg Reward Sarsa', 'Best Avg Reward Sarsamax'])\n",
    "_ = plt.ylim();"
   ]
  },
  {
   "cell_type": "code",
   "execution_count": null,
   "metadata": {},
   "outputs": [],
   "source": []
  }
 ],
 "metadata": {
  "kernelspec": {
   "display_name": "Python 3",
   "language": "python",
   "name": "python3"
  },
  "language_info": {
   "codemirror_mode": {
    "name": "ipython",
    "version": 3
   },
   "file_extension": ".py",
   "mimetype": "text/x-python",
   "name": "python",
   "nbconvert_exporter": "python",
   "pygments_lexer": "ipython3",
   "version": "3.7.1"
  }
 },
 "nbformat": 4,
 "nbformat_minor": 2
}
